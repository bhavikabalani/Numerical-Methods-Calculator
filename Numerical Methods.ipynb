{
 "cells": [
  {
   "cell_type": "markdown",
   "id": "84fca036",
   "metadata": {},
   "source": [
    "# Bisection Method"
   ]
  },
  {
   "cell_type": "code",
   "execution_count": 1,
   "id": "aeaeb20b",
   "metadata": {
    "scrolled": true
   },
   "outputs": [
    {
     "name": "stdout",
     "output_type": "stream",
     "text": [
      "Enter the function (in terms of x): x**2-49\n",
      "Enter value of a: 6.5\n",
      "Enter value of b: 7.1\n",
      "Enter number of iterations: 5\n",
      "\t count is: a  b  c  bisection_fn(a)  bisection_fn(b)  bisection_fn(c) 1 6.5 7.1 6.8 -6.75 1.4099999999999966 -2.760000000000005\n",
      "\t count is: a  b  c  bisection_fn(a)  bisection_fn(b)  bisection_fn(c) 2 6.5 7.1 6.8 -6.75 1.4099999999999966 -2.760000000000005\n",
      "\t count is: a  b  c  bisection_fn(a)  bisection_fn(b)  bisection_fn(c) 3 6.5 7.1 6.8 -6.75 1.4099999999999966 -2.760000000000005\n",
      "\t count is: a  b  c  bisection_fn(a)  bisection_fn(b)  bisection_fn(c) 4 6.5 7.1 6.8 -6.75 1.4099999999999966 -2.760000000000005\n",
      "\t count is: a  b  c  bisection_fn(a)  bisection_fn(b)  bisection_fn(c) 5 6.5 7.1 6.8 -6.75 1.4099999999999966 -2.760000000000005\n",
      "\t count is: a  b  c  bisection_fn(a)  bisection_fn(b)  bisection_fn(c) 6 6.5 7.1 6.8 -6.75 1.4099999999999966 -2.760000000000005\n",
      "The final value of Root after all iterations is: 6.8\n"
     ]
    }
   ],
   "source": [
    "def bisection_fn(func):\n",
    "    return func\n",
    "\n",
    "def main():\n",
    "    # Get the function as input\n",
    "    func_str = input(\"Enter the function (in terms of x): \")\n",
    "    func = lambda x: eval(func_str)\n",
    "\n",
    "    a = float(input(\"Enter value of a: \"))\n",
    "    b = float(input(\"Enter value of b: \"))\n",
    "    i = int(input(\"Enter number of iterations: \"))\n",
    "    count = 0\n",
    "\n",
    "    while count <= i:\n",
    "        c = (a + b) / 2\n",
    "        a1 = bisection_fn(a)\n",
    "        c1 = bisection_fn(c)\n",
    "        b1 = bisection_fn(b)\n",
    "\n",
    "        if bisection_fn(c) * bisection_fn(b) < 0:\n",
    "            a = c\n",
    "        if c1 * a1 < 0:\n",
    "            b = c\n",
    "\n",
    "        count = count + 1\n",
    "        print(\"\\t count is: a  b  c  bisection_fn(a)  bisection_fn(b)  bisection_fn(c)\", count, a, b, c, func(a), func(b), func(c))\n",
    "\n",
    "    print(\"The final value of Root after all iterations is:\", c)\n",
    "\n",
    "if __name__ == \"__main__\":\n",
    "    main()\n"
   ]
  },
  {
   "cell_type": "markdown",
   "id": "d5be5a08",
   "metadata": {},
   "source": [
    "# Least Square Approximation"
   ]
  },
  {
   "cell_type": "code",
   "execution_count": 2,
   "id": "c1fa53dc",
   "metadata": {},
   "outputs": [
    {
     "name": "stdout",
     "output_type": "stream",
     "text": [
      "Enter the Total number of Data Points: 5\n",
      "Enter the values of x\n",
      "x0:0\n",
      "x1:10\n",
      "x2:20\n",
      "x3:30\n",
      "x4:40\n",
      "Enter the values of y\n",
      "y0:53.5\n",
      "y1:59.5\n",
      "y2:65.2\n",
      "y3:70.6\n",
      "y4:75.5\n",
      "[ 0. 10. 20. 30. 40.]\n",
      "[53.5 59.5 65.2 70.6 75.5]\n",
      "[ 0. 10. 20. 30. 40.]\n",
      "[53.5 59.5 65.2 70.6 75.5]\n",
      "100.0 324.29999999999995 3000.0 7037.0\n",
      "{a: 53.8400000000000, b: 0.551000000000000}\n"
     ]
    },
    {
     "name": "stderr",
     "output_type": "stream",
     "text": [
      "C:\\Users\\balan\\AppData\\Local\\Temp\\ipykernel_1932\\866250649.py:42: SymPyDeprecationWarning: \n",
      "\n",
      "Eq(expr) with a single argument with the right-hand side\n",
      "defaulting to 0 is deprecated. Use Eq(expr, 0) instead.\n",
      "\n",
      "See https://docs.sympy.org/latest/explanation/active-deprecations.html#deprecated-eq-expr\n",
      "for details.\n",
      "\n",
      "This has been deprecated since SymPy version 1.5. It\n",
      "will be removed in a future version of SymPy.\n",
      "\n",
      "  eq1 = Eq(n*a + b*sumX - sumY)\n"
     ]
    }
   ],
   "source": [
    "import numpy as np\n",
    "from sympy import symbols, Eq, solve\n",
    "\n",
    "n = int(input(\"Enter the Total number of Data Points: \"))\n",
    "x = np.zeros(n)\n",
    "y = np.zeros(n)\n",
    "\n",
    "print(\"Enter the values of x\")\n",
    "for i in range(n):\n",
    "    v = float(input(\"x\"+str(i)+\":\"))\n",
    "    x[i]=v\n",
    "#print(x)\n",
    "\n",
    "\n",
    "print(\"Enter the values of y\")\n",
    "for i in range(n):\n",
    "    v = float(input(\"y\"+str(i)+\":\"))\n",
    "    y[i]=v\n",
    "#print(y)\n",
    "\n",
    "x = np.array(x)\n",
    "y = np.array(y)\n",
    "     \n",
    "print(x)\n",
    "print(y)\n",
    "\n",
    "x = np.array(x)\n",
    "y = np.array(y)\n",
    "\n",
    "print(x)\n",
    "print(y)\n",
    "\n",
    "sumX= np.sum(x)\n",
    "sumY = np.sum(y)\n",
    "sumXY = np.sum(x*y)\n",
    "\n",
    "sumX_square = np.sum(np.square(x))\n",
    "print(sumX,sumY,sumX_square,sumXY)\n",
    "\n",
    "a,b = symbols('a b')\n",
    "\n",
    "eq1 = Eq(n*a + b*sumX - sumY)\n",
    "eq2 = Eq(a*sumX + b*sumX_square - sumXY)\n",
    "\n",
    "print(solve((eq1,eq2), (a,b)))\n"
   ]
  },
  {
   "cell_type": "markdown",
   "id": "ccc072ef",
   "metadata": {},
   "source": [
    "# Lagrange Interpolation"
   ]
  },
  {
   "cell_type": "code",
   "execution_count": 4,
   "id": "d1b7bea0",
   "metadata": {
    "scrolled": false
   },
   "outputs": [
    {
     "name": "stdout",
     "output_type": "stream",
     "text": [
      "Enter number of data points: 5\n",
      "Enter data values: \n",
      "x[0]=0.25\n",
      "y[0]=-0.45\n",
      "x[1]=0.75\n",
      "y[1]=-0.6\n",
      "x[2]=1.25\n",
      "y[2]=0.7\n",
      "x[3]=1.5\n",
      "y[3]=1.88\n",
      "x[4]=2\n",
      "y[4]=6\n",
      "Enter interpolation point: 1.1\n",
      "Interpolated value at 1.100 is 0.176.\n"
     ]
    }
   ],
   "source": [
    "import numpy as np\n",
    "\n",
    "n = int(input(\"Enter number of data points: \"))\n",
    "\n",
    "x = np.zeros((n))\n",
    "y = np.zeros((n))\n",
    "\n",
    "print(\"Enter data values: \")\n",
    "\n",
    "for i in range(n):\n",
    "    x[i] = float(input( 'x['+str(i)+']='))\n",
    "    y[i] = float(input( 'y['+str(i)+']='))\n",
    "    \n",
    "xp = float(input(\"Enter interpolation point: \"))\n",
    "\n",
    "yp = 0\n",
    "\n",
    "for i in range(n):\n",
    "    p = 1\n",
    "    \n",
    "    for j in range(n):\n",
    "        if i !=j:\n",
    "            p = p*(xp - x[j])/(x[i] - x[j])\n",
    "            \n",
    "    yp = yp + p * y[i]\n",
    "    \n",
    "print('Interpolated value at %.3f is %.3f.' %(xp,yp) )"
   ]
  },
  {
   "cell_type": "markdown",
   "id": "1ac474cc",
   "metadata": {},
   "source": [
    "# Simpson's 1/3 Rule"
   ]
  },
  {
   "cell_type": "code",
   "execution_count": 7,
   "id": "8be38085",
   "metadata": {},
   "outputs": [
    {
     "name": "stdout",
     "output_type": "stream",
     "text": [
      "Enter lower limit of integration: 0\n",
      "Enter upper limit of integration: 6\n",
      "Enter number of sub intervals: 6\n",
      "Integration result:  1.3661734132322367\n"
     ]
    }
   ],
   "source": [
    "def f(x):\n",
    "    return 1/(1 + x**2)\n",
    "\n",
    "def simpson13(x0,xn,n):\n",
    "    h = (xn - x0) / n\n",
    "    \n",
    "    integration = f(x0) + f(xn)\n",
    "    \n",
    "    for i in range(1,n):\n",
    "        k = x0 + i*h\n",
    "        \n",
    "        if i%2 == 0:\n",
    "            integration = integration + 2*f(k)\n",
    "        else:\n",
    "            integration = integration + 4*f(k)\n",
    "            \n",
    "    integration = integration * h/3\n",
    "    \n",
    "    return integration \n",
    "\n",
    "lower_limit = float(input(\"Enter lower limit of integration: \"))\n",
    "upper_limit = float(input(\"Enter upper limit of integration: \"))\n",
    "sub_interval = int(input(\"Enter number of sub intervals: \"))\n",
    "\n",
    "result = simpson13(lower_limit, upper_limit, sub_interval)\n",
    "print(\"Integration result: \", result)\n",
    "\n",
    "\n"
   ]
  },
  {
   "cell_type": "code",
   "execution_count": 8,
   "id": "fa691421",
   "metadata": {
    "scrolled": false
   },
   "outputs": [
    {
     "name": "stdout",
     "output_type": "stream",
     "text": [
      "Enter the function (in terms of x): 1/(1 + x**2)\n",
      "Enter lower limit of integration: 0\n",
      "Enter upper limit of integration: 6\n",
      "Enter number of sub intervals: 6\n",
      "Integration result:  1.3661734132322367\n"
     ]
    }
   ],
   "source": [
    "def simpson13(func, x0, xn, n):\n",
    "    h = (xn - x0) / n\n",
    "    integration = func(x0) + func(xn)\n",
    "\n",
    "    for i in range(1, n):\n",
    "        k = x0 + i * h\n",
    "        if i % 2 == 0:\n",
    "            integration += 2 * func(k)\n",
    "        else:\n",
    "            integration += 4 * func(k)\n",
    "\n",
    "    integration = integration * h / 3\n",
    "    return integration\n",
    "\n",
    "# Take the function from the user as a string and convert it to a callable function\n",
    "func_str = input(\"Enter the function (in terms of x): \")\n",
    "func = lambda x: eval(func_str)\n",
    "\n",
    "lower_limit = float(input(\"Enter lower limit of integration: \"))\n",
    "upper_limit = float(input(\"Enter upper limit of integration: \"))\n",
    "sub_interval = int(input(\"Enter number of sub intervals: \"))\n",
    "\n",
    "result = simpson13(func, lower_limit, upper_limit, sub_interval)\n",
    "print(\"Integration result: \", result)\n"
   ]
  },
  {
   "cell_type": "markdown",
   "id": "37175bc1",
   "metadata": {},
   "source": [
    "# Simpson's 3/8 Method"
   ]
  },
  {
   "cell_type": "code",
   "execution_count": 13,
   "id": "c8ea7e02",
   "metadata": {},
   "outputs": [
    {
     "name": "stdout",
     "output_type": "stream",
     "text": [
      "Enter the function (in terms of x): 1/(1 + x**2)\n",
      "Enter lower limit of integration: 0\n",
      "Enter upper limit of integration: 1\n",
      "Enter number of sub intervals: 6\n",
      "Integration result:  0.7853958624450428\n"
     ]
    }
   ],
   "source": [
    "# Simpson's 3/8 Rule\n",
    "def simpson38(func, x0, xn, n):\n",
    "    h = (xn - x0) / n\n",
    "    integration = func(x0) + func(xn)\n",
    "\n",
    "    for i in range(1, n):\n",
    "        k = x0 + i * h\n",
    "        if i % 3 == 0:\n",
    "            integration = integration + 2 * func(k)\n",
    "        else:\n",
    "            integration = integration + 3 * func(k)\n",
    "\n",
    "    integration = integration * 3 * h / 8\n",
    "    return integration\n",
    "\n",
    "# Take the function from the user as a string and convert it to a callable function\n",
    "func_str = input(\"Enter the function (in terms of x): \")\n",
    "func = lambda x: eval(func_str)\n",
    "\n",
    "lower_limit = float(input(\"Enter lower limit of integration: \"))\n",
    "upper_limit = float(input(\"Enter upper limit of integration: \"))\n",
    "sub_interval = int(input(\"Enter number of sub intervals: \"))\n",
    "\n",
    "result = simpson38(func, lower_limit, upper_limit, sub_interval)\n",
    "print(\"Integration result: \", result)"
   ]
  },
  {
   "cell_type": "markdown",
   "id": "95bb1d0f",
   "metadata": {},
   "source": [
    "# Birge-Vieta Method"
   ]
  },
  {
   "cell_type": "code",
   "execution_count": 11,
   "id": "d80a8bcd",
   "metadata": {
    "scrolled": true
   },
   "outputs": [
    {
     "name": "stdout",
     "output_type": "stream",
     "text": [
      "Enter value of initial approximate root p0: 1\n",
      "Enter value of a0: 1\n",
      "Enter value of a1: 1\n",
      "Enter value of a2: 5\n",
      "Enter value of a3: 4\n",
      "Enter value of a4: 4\n",
      "Enter no. of iterations: 2\n",
      "Iteration: 1\n",
      "New root is: 0.2857142857142857\n",
      "Iteration: 2\n",
      "New root is: -0.48992822412595505\n"
     ]
    }
   ],
   "source": [
    "def f(x):\n",
    "    return x**4+x**3+5*x**2+4*x+4\n",
    "\n",
    "p0 = float(input(\"Enter value of initial approximate root p0: \"))\n",
    "a0 = float(input(\"Enter value of a0: \"))\n",
    "a1 = float(input(\"Enter value of a1: \"))\n",
    "a2 = float(input(\"Enter value of a2: \"))\n",
    "a3 = float(input(\"Enter value of a3: \"))\n",
    "a4 = float(input(\"Enter value of a4: \"))\n",
    "i = int(input(\"Enter no. of iterations: \"))\n",
    "\n",
    "count = 1\n",
    "while (count<=i):\n",
    "    b0=a0\n",
    "    b1=a1+p0*b0\n",
    "    b2=a2+p0*b1\n",
    "    b3=a3+p0*b2\n",
    "    b4=a4+p0*b3\n",
    "    c0=b0\n",
    "    c1=b1+p0*c0\n",
    "    c2=b2+p0*c1\n",
    "    c3=b3+p0*c2\n",
    "    p1=p0-(b4/c3)\n",
    "    print(\"Iteration:\",count)\n",
    "    print(\"New root is:\",p1)\n",
    "    p0 = p1\n",
    "    count = count+1\n",
    "    \n",
    "    "
   ]
  },
  {
   "cell_type": "code",
   "execution_count": 13,
   "id": "52dceb9f",
   "metadata": {},
   "outputs": [
    {
     "name": "stdout",
     "output_type": "stream",
     "text": [
      "Enter the function (in terms of x): x**4+x**3+5*x**2+4*x+4\n",
      "Enter value of initial approximate root p0: 1\n",
      "Enter value of a0: 1\n",
      "Enter value of a1: 1\n",
      "Enter value of a2: 5\n",
      "Enter value of a3: 4\n",
      "Enter value of a4: 4\n",
      "Enter the number of iterations: 2\n",
      "Iteration: 1\n",
      "New root is: 0.2857142857142857\n",
      "Iteration: 2\n",
      "New root is: -0.48992822412595505\n"
     ]
    }
   ],
   "source": [
    "def birge_vieta():\n",
    "    func_str = input(\"Enter the function (in terms of x): \")\n",
    "    func = lambda x: eval(func_str)\n",
    "\n",
    "    p0 = float(input(\"Enter value of initial approximate root p0: \"))\n",
    "    a0 = float(input(\"Enter value of a0: \"))\n",
    "    a1 = float(input(\"Enter value of a1: \"))\n",
    "    a2 = float(input(\"Enter value of a2: \"))\n",
    "    a3 = float(input(\"Enter value of a3: \"))\n",
    "    a4 = float(input(\"Enter value of a4: \"))\n",
    "    i = int(input(\"Enter the number of iterations: \"))\n",
    "\n",
    "    count = 1\n",
    "    while count <= i:\n",
    "        b0 = a0\n",
    "        b1 = a1 + p0 * b0\n",
    "        b2 = a2 + p0 * b1\n",
    "        b3 = a3 + p0 * b2\n",
    "        b4 = a4 + p0 * b3\n",
    "        c0 = b0\n",
    "        c1 = b1 + p0 * c0\n",
    "        c2 = b2 + p0 * c1\n",
    "        c3 = b3 + p0 * c2\n",
    "        p1 = p0 - (b4 / c3)\n",
    "        print(\"Iteration:\", count)\n",
    "        print(\"New root is:\", p1)\n",
    "        p0 = p1\n",
    "        count += 1\n",
    "\n",
    "birge_vieta()\n"
   ]
  },
  {
   "cell_type": "code",
   "execution_count": 4,
   "id": "81325aae",
   "metadata": {
    "scrolled": true
   },
   "outputs": [
    {
     "name": "stdout",
     "output_type": "stream",
     "text": [
      "Enter the coefficients of the polynomial equation (e.g., '1 1 5 4 4'): 1 1 5 4 4 \n",
      "Enter the initial approximate root p0: 1\n",
      "Enter the number of iterations: 2\n",
      "Iteration: 1\n",
      "New root is: 0.2857142857142857\n",
      "Iteration: 2\n",
      "New root is: -0.48992822412595505\n",
      "Final root is: -0.48992822412595505\n"
     ]
    }
   ],
   "source": [
    "def birge_vieta_solver(coefficients, initial_approx_root, num_iterations):\n",
    "    p0 = initial_approx_root\n",
    "\n",
    "    count = 1\n",
    "    while count <= num_iterations:\n",
    "        n = len(coefficients) - 1  # Degree of the polynomial\n",
    "        b = [0] * (n + 1)\n",
    "        c = [0] * (n + 1)\n",
    "\n",
    "        b[0] = coefficients[0]\n",
    "        c[0] = coefficients[0]\n",
    "\n",
    "        for i in range(1, n + 1):\n",
    "            b[i] = coefficients[i] + p0 * b[i - 1]\n",
    "            c[i] = b[i] + p0 * c[i - 1]\n",
    "\n",
    "        p1 = p0 - (b[n] / c[n - 1])\n",
    "\n",
    "        print(\"Iteration:\", count)\n",
    "        print(\"New root is:\", p1)\n",
    "\n",
    "        p0 = p1\n",
    "        count += 1\n",
    "\n",
    "    return p0\n",
    "\n",
    "# Get the user's input for coefficients and initial approximate root\n",
    "equation_str = input(\"Enter the coefficients of the polynomial equation (e.g., '1 1 5 4 4'): \")\n",
    "coefficients = list(map(float, equation_str.split()))\n",
    "initial_approx_root = float(input(\"Enter the initial approximate root p0: \"))\n",
    "num_iterations = int(input(\"Enter the number of iterations: \"))\n",
    "\n",
    "# Call the function to solve for the root\n",
    "result = birge_vieta_solver(coefficients, initial_approx_root, num_iterations)\n",
    "print(\"Final root is:\", result)\n"
   ]
  },
  {
   "cell_type": "markdown",
   "id": "d01f1cc5",
   "metadata": {},
   "source": [
    "# 4th Order Runge Kutta Method"
   ]
  },
  {
   "cell_type": "code",
   "execution_count": 10,
   "id": "b6c5ba2b",
   "metadata": {},
   "outputs": [
    {
     "name": "stdout",
     "output_type": "stream",
     "text": [
      "Enter initial conditions:\n",
      "x0 = 0\n",
      "y0 = 1\n",
      "Enter calculation point: \n",
      "xn = 1\n",
      "Enter number of steps:\n",
      "Number of steps = 2\n",
      "Enter the function (in terms of x and y): x+y\n",
      "\n",
      "--------SOLUTION--------\n",
      "-------------------------\n",
      "x0\ty0\tyn\n",
      "-------------------------\n",
      "0.0000\t1.0000\t1.7969\n",
      "-------------------------\n",
      "0.5000\t1.7969\t3.4347\n",
      "-------------------------\n",
      "\n",
      "At x=1.0000, y=3.4347\n"
     ]
    }
   ],
   "source": [
    "def rk4_solver(x0, y0, xn, n, equation):\n",
    "    # Function to be solved\n",
    "    f = lambda x, y: eval(equation)\n",
    "\n",
    "    # Calculating step size\n",
    "    h = (xn - x0) / n\n",
    "\n",
    "    print('\\n--------SOLUTION--------')\n",
    "    print('-------------------------')\n",
    "    print('x0\\ty0\\tyn')\n",
    "    print('-------------------------')\n",
    "    \n",
    "    for i in range(n):\n",
    "        k1 = h * f(x0, y0)\n",
    "        k2 = h * f(x0 + h / 2, y0 + k1 / 2)\n",
    "        k3 = h * f(x0 + h / 2, y0 + k2 / 2)\n",
    "        k4 = h * f(x0 + h, y0 + k3)\n",
    "        k = (k1 + 2 * k2 + 2 * k3 + k4) / 6\n",
    "        yn = y0 + k\n",
    "        print('%.4f\\t%.4f\\t%.4f' % (x0, y0, yn))\n",
    "        print('-------------------------')\n",
    "        y0 = yn\n",
    "        x0 = x0 + h\n",
    "\n",
    "    print('\\nAt x=%.4f, y=%.4f' % (xn, yn))\n",
    "\n",
    "# Inputs\n",
    "print('Enter initial conditions:')\n",
    "x0 = float(input('x0 = '))\n",
    "y0 = float(input('y0 = '))\n",
    "\n",
    "print('Enter calculation point: ')\n",
    "xn = float(input('xn = '))\n",
    "\n",
    "print('Enter number of steps:')\n",
    "step = int(input('Number of steps = '))\n",
    "\n",
    "equation_str = input(\"Enter the function (in terms of x and y): \")\n",
    "\n",
    "# RK4 method call\n",
    "rk4_solver(x0, y0, xn, step, equation_str)\n"
   ]
  },
  {
   "cell_type": "markdown",
   "id": "147aebc2",
   "metadata": {},
   "source": [
    "# Gauss Siedal Method"
   ]
  },
  {
   "cell_type": "code",
   "execution_count": 11,
   "id": "76c83381",
   "metadata": {},
   "outputs": [
    {
     "name": "stdout",
     "output_type": "stream",
     "text": [
      "[0, 0, 0]\n",
      "[1.0, 0.8, 0.39999999999999997]\n",
      "[0.6000000000000001, 0.9599999999999997, 0.48000000000000004]\n",
      "[0.52, 0.9919999999999998, 0.49600000000000005]\n",
      "[0.504, 0.9983999999999998, 0.4992000000000001]\n",
      "[0.5008, 0.99968, 0.49984]\n",
      "[0.5001599999999999, 0.9999360000000002, 0.4999679999999999]\n",
      "[0.500032, 0.9999872, 0.4999936]\n",
      "[0.5000064, 0.9999974400000001, 0.49999871999999995]\n",
      "[0.50000128, 0.999999488, 0.4999997439999999]\n",
      "[0.500000256, 0.9999998976000001, 0.49999994880000004]\n",
      "[0.5000000512, 0.9999999795199999, 0.4999999897600001]\n",
      "[0.50000001024, 0.999999995904, 0.499999997952]\n",
      "[0.500000002048, 0.9999999991808, 0.49999999959040003]\n",
      "[0.5000000004095999, 0.9999999998361601, 0.49999999991808003]\n",
      "[0.50000000008192, 0.9999999999672321, 0.49999999998361594]\n",
      "[0.500000000016384, 0.9999999999934465, 0.49999999999672307]\n",
      "[0.5000000000032768, 0.9999999999986894, 0.4999999999993445]\n",
      "[0.5000000000006554, 0.9999999999997378, 0.49999999999986894]\n",
      "[0.500000000000131, 0.9999999999999478, 0.49999999999997374]\n",
      "[0.5000000000000262, 0.9999999999999897, 0.49999999999999467]\n",
      "[0.5000000000000052, 0.9999999999999979, 0.49999999999999895]\n",
      "[0.5000000000000011, 0.9999999999999994, 0.49999999999999983]\n",
      "[0.5000000000000002, 0.9999999999999998, 0.5000000000000001]\n",
      "[0.49999999999999994, 1.0, 0.5]\n",
      "[0.5, 1.0, 0.5]\n"
     ]
    }
   ],
   "source": [
    "def seidel(a, x ,b): \n",
    "    #Finding length of a(3)        \n",
    "    n = len(a)                    \n",
    "    # for loop for 3 times as to calculate x, y , z \n",
    "    for j in range(0, n):         \n",
    "        # temp variable d to store b[j] \n",
    "        d = b[j]                   \n",
    "          \n",
    "        # to calculate respective xi, yi, zi \n",
    "        for i in range(0, n):      \n",
    "            if(j != i): \n",
    "                d-=a[j][i] * x[i] \n",
    "        # updating the value of our solution         \n",
    "        x[j] = d / a[j][j] \n",
    "    # returning our updated solution            \n",
    "    return x     \n",
    "   \n",
    "# int(input())input as number of variable to be solved                 \n",
    "n = 3                              \n",
    "a = []                             \n",
    "b = []         \n",
    "# initial solution depending on n(here n=3)                      \n",
    "x = [0, 0, 0]                         \n",
    "a = [[4, 1, 2],[3, 5, 1],[1, 1, 3]] \n",
    "b = [4,7,3] \n",
    "print(x) \n",
    "  \n",
    "#loop run for m times depending on m the error value \n",
    "for i in range(0, 25):             \n",
    "    x = seidel(a, x, b) \n",
    "    #print each time the updated solution \n",
    "    print(x)           "
   ]
  },
  {
   "cell_type": "code",
   "execution_count": null,
   "id": "e4158a5e",
   "metadata": {},
   "outputs": [],
   "source": []
  }
 ],
 "metadata": {
  "kernelspec": {
   "display_name": "Python 3 (ipykernel)",
   "language": "python",
   "name": "python3"
  },
  "language_info": {
   "codemirror_mode": {
    "name": "ipython",
    "version": 3
   },
   "file_extension": ".py",
   "mimetype": "text/x-python",
   "name": "python",
   "nbconvert_exporter": "python",
   "pygments_lexer": "ipython3",
   "version": "3.9.12"
  }
 },
 "nbformat": 4,
 "nbformat_minor": 5
}
